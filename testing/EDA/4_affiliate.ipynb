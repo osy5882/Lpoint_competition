{
 "cells": [
  {
   "cell_type": "code",
   "execution_count": 1,
   "metadata": {},
   "outputs": [],
   "source": [
    "import pandas as pd\n",
    "import numpy as np\n",
    "import matplotlib.pyplot as plt\n",
    "import seaborn as sns\n",
    "import os\n",
    "\n",
    "%matplotlib inline\n",
    "plt.rcParams[\"font.family\"] = \"Malgun Gothic\"\n",
    "plt.rcParams[\"font.size\"] = 15\n",
    "plt.rcParams[\"figure.figsize\"] = (16,9)\n",
    "plt.rcParams[\"axes.unicode_minus\"] = False\n",
    "plt.style.use(\"ggplot\")\n",
    "\n",
    "pd.set_option(\"display.max_rows\", 10)\n",
    "pd.set_option(\"display.max_columns\", 10)"
   ]
  },
  {
   "cell_type": "markdown",
   "metadata": {},
   "source": [
    "# 0.Data Load\n",
    "---"
   ]
  },
  {
   "cell_type": "code",
   "execution_count": 2,
   "metadata": {},
   "outputs": [
    {
     "data": {
      "text/html": [
       "<div>\n",
       "<style scoped>\n",
       "    .dataframe tbody tr th:only-of-type {\n",
       "        vertical-align: middle;\n",
       "    }\n",
       "\n",
       "    .dataframe tbody tr th {\n",
       "        vertical-align: top;\n",
       "    }\n",
       "\n",
       "    .dataframe thead th {\n",
       "        text-align: right;\n",
       "    }\n",
       "</style>\n",
       "<table border=\"1\" class=\"dataframe\">\n",
       "  <thead>\n",
       "    <tr style=\"text-align: right;\">\n",
       "      <th></th>\n",
       "      <th>cust</th>\n",
       "      <th>rct_no</th>\n",
       "      <th>cop_c</th>\n",
       "      <th>br_c</th>\n",
       "      <th>chnl_dv</th>\n",
       "      <th>de_dt</th>\n",
       "      <th>vst_dt</th>\n",
       "      <th>de_hr</th>\n",
       "      <th>buy_am</th>\n",
       "    </tr>\n",
       "  </thead>\n",
       "  <tbody>\n",
       "    <tr>\n",
       "      <th>0</th>\n",
       "      <td>M839993508</td>\n",
       "      <td>21102612B015763935</td>\n",
       "      <td>B01</td>\n",
       "      <td>B010012</td>\n",
       "      <td>1</td>\n",
       "      <td>20211026</td>\n",
       "      <td>20211026</td>\n",
       "      <td>12</td>\n",
       "      <td>60000</td>\n",
       "    </tr>\n",
       "    <tr>\n",
       "      <th>1</th>\n",
       "      <td>M839993508</td>\n",
       "      <td>21110610B014219744</td>\n",
       "      <td>B01</td>\n",
       "      <td>B010012</td>\n",
       "      <td>1</td>\n",
       "      <td>20211106</td>\n",
       "      <td>20211106</td>\n",
       "      <td>10</td>\n",
       "      <td>17100</td>\n",
       "    </tr>\n",
       "    <tr>\n",
       "      <th>2</th>\n",
       "      <td>M839993508</td>\n",
       "      <td>21021112B013419710</td>\n",
       "      <td>B01</td>\n",
       "      <td>B010012</td>\n",
       "      <td>1</td>\n",
       "      <td>20210211</td>\n",
       "      <td>20210211</td>\n",
       "      <td>12</td>\n",
       "      <td>136500</td>\n",
       "    </tr>\n",
       "    <tr>\n",
       "      <th>3</th>\n",
       "      <td>M839993508</td>\n",
       "      <td>21092010B012637545</td>\n",
       "      <td>B01</td>\n",
       "      <td>B010012</td>\n",
       "      <td>1</td>\n",
       "      <td>20210920</td>\n",
       "      <td>20210920</td>\n",
       "      <td>10</td>\n",
       "      <td>34200</td>\n",
       "    </tr>\n",
       "    <tr>\n",
       "      <th>4</th>\n",
       "      <td>M839993508</td>\n",
       "      <td>21101009D015920171</td>\n",
       "      <td>D01</td>\n",
       "      <td>D010614</td>\n",
       "      <td>1</td>\n",
       "      <td>20211010</td>\n",
       "      <td>20211010</td>\n",
       "      <td>9</td>\n",
       "      <td>2500</td>\n",
       "    </tr>\n",
       "  </tbody>\n",
       "</table>\n",
       "</div>"
      ],
      "text/plain": [
       "         cust              rct_no cop_c     br_c  chnl_dv     de_dt    vst_dt  \\\n",
       "0  M839993508  21102612B015763935   B01  B010012        1  20211026  20211026   \n",
       "1  M839993508  21110610B014219744   B01  B010012        1  20211106  20211106   \n",
       "2  M839993508  21021112B013419710   B01  B010012        1  20210211  20210211   \n",
       "3  M839993508  21092010B012637545   B01  B010012        1  20210920  20210920   \n",
       "4  M839993508  21101009D015920171   D01  D010614        1  20211010  20211010   \n",
       "\n",
       "   de_hr  buy_am  \n",
       "0     12   60000  \n",
       "1     10   17100  \n",
       "2     12  136500  \n",
       "3     10   34200  \n",
       "4      9    2500  "
      ]
     },
     "execution_count": 2,
     "metadata": {},
     "output_type": "execute_result"
    }
   ],
   "source": [
    "df_aff = pd.read_csv(\"../LPOINT_BIG_COMP/LPOINT_BIG_COMP_03_COP_U.csv\")\n",
    "df_aff.head()"
   ]
  },
  {
   "cell_type": "code",
   "execution_count": 3,
   "metadata": {},
   "outputs": [
    {
     "name": "stdout",
     "output_type": "stream",
     "text": [
      "<class 'pandas.core.frame.DataFrame'>\n",
      "RangeIndex: 248304 entries, 0 to 248303\n",
      "Data columns (total 9 columns):\n",
      " #   Column   Non-Null Count   Dtype \n",
      "---  ------   --------------   ----- \n",
      " 0   cust     248304 non-null  object\n",
      " 1   rct_no   248304 non-null  object\n",
      " 2   cop_c    248304 non-null  object\n",
      " 3   br_c     248249 non-null  object\n",
      " 4   chnl_dv  248304 non-null  int64 \n",
      " 5   de_dt    248304 non-null  int64 \n",
      " 6   vst_dt   248304 non-null  int64 \n",
      " 7   de_hr    248304 non-null  int64 \n",
      " 8   buy_am   248304 non-null  int64 \n",
      "dtypes: int64(5), object(4)\n",
      "memory usage: 17.0+ MB\n"
     ]
    }
   ],
   "source": [
    "df_aff.info()"
   ]
  },
  {
   "cell_type": "code",
   "execution_count": 4,
   "metadata": {},
   "outputs": [
    {
     "name": "stdout",
     "output_type": "stream",
     "text": [
      "cust: 21769\t['*', 'M839993508', 'M348796971', 'M859929802', 'M402567093', 'M355649173', 'M455885515', 'M134245308', 'M267409798', 'M872147557', 'M725568174']\n",
      "\n",
      "rct_no: 248304\t['*', '21102612B015763935', '21110610B014219744', '21021112B013419710', '21092010B012637545', '21101009D015920171', '21052913C012653941', '21103114D013043421', '21060414C012756148', '21060513C011958388', '21060815C015053738']\n",
      "\n",
      "cop_c: 6\t['B01' 'D01' 'C01' 'D02' 'C02' 'E01']\n",
      "\n",
      "br_c: 2029\t['*', 'B010012', 'D010614', 'C010003', 'D010398', 'D010322', 'D010577', 'D020485', 'D010968', 'C010011', 'D010388']\n",
      "\n",
      "chnl_dv: 2\t[1 2]\n",
      "\n",
      "de_dt: 369\t['*', 20211026, 20211106, 20210211, 20210920, 20211010, 20210529, 20211031, 20210604, 20210605, 20210608]\n",
      "\n",
      "vst_dt: 366\t['*', 20211026, 20211106, 20210211, 20210920, 20211010, 20210529, 20211031, 20210604, 20210605, 20210608]\n",
      "\n",
      "de_hr: 24\t['*', 12, 10, 9, 13, 14, 15, 16, 11, 21, 20]\n",
      "\n",
      "buy_am: 9420\t['*', 60000, 17100, 136500, 34200, 2500, 5000, 4600, 7000, 7800, 5900]\n",
      "\n",
      "Total DF Length: 248304\n"
     ]
    }
   ],
   "source": [
    "# Number of Unique Values\n",
    "for col in df_aff.columns:\n",
    "    unq_arr = df_aff[col].unique()\n",
    "    print(f\"{col}: {df_aff[col].nunique()}\\t{['*']+unq_arr[:10].tolist() if df_aff[col].nunique()>20 else unq_arr}\")\n",
    "    print()\n",
    "print(f\"Total DF Length: {len(df_aff)}\")"
   ]
  },
  {
   "cell_type": "markdown",
   "metadata": {},
   "source": [
    "- `B01`: 숙박업종\n",
    "- `C01~2`: 엔터테인먼트\n",
    "- `D01~2`: F&B\n",
    "- `E01`: 렌탈업종\n",
    "- **A(유통사)** 에 해당하는 정보는 Affiliate에 존재하지 않음"
   ]
  },
  {
   "cell_type": "code",
   "execution_count": 5,
   "metadata": {},
   "outputs": [
    {
     "data": {
      "text/html": [
       "<div>\n",
       "<style scoped>\n",
       "    .dataframe tbody tr th:only-of-type {\n",
       "        vertical-align: middle;\n",
       "    }\n",
       "\n",
       "    .dataframe tbody tr th {\n",
       "        vertical-align: top;\n",
       "    }\n",
       "\n",
       "    .dataframe thead th {\n",
       "        text-align: right;\n",
       "    }\n",
       "</style>\n",
       "<table border=\"1\" class=\"dataframe\">\n",
       "  <thead>\n",
       "    <tr style=\"text-align: right;\">\n",
       "      <th></th>\n",
       "      <th>cust</th>\n",
       "      <th>rct_no</th>\n",
       "      <th>cop_c</th>\n",
       "      <th>br_c</th>\n",
       "      <th>chnl_dv</th>\n",
       "      <th>de_dt</th>\n",
       "      <th>vst_dt</th>\n",
       "      <th>de_hr</th>\n",
       "      <th>buy_am</th>\n",
       "    </tr>\n",
       "  </thead>\n",
       "  <tbody>\n",
       "    <tr>\n",
       "      <th>5</th>\n",
       "      <td>M348796971</td>\n",
       "      <td>21052913C012653941</td>\n",
       "      <td>C01</td>\n",
       "      <td>C010003</td>\n",
       "      <td>1</td>\n",
       "      <td>20210529</td>\n",
       "      <td>20210529</td>\n",
       "      <td>13</td>\n",
       "      <td>5000</td>\n",
       "    </tr>\n",
       "    <tr>\n",
       "      <th>7</th>\n",
       "      <td>M348796971</td>\n",
       "      <td>21060414C012756148</td>\n",
       "      <td>C01</td>\n",
       "      <td>C010003</td>\n",
       "      <td>1</td>\n",
       "      <td>20210604</td>\n",
       "      <td>20210604</td>\n",
       "      <td>14</td>\n",
       "      <td>5000</td>\n",
       "    </tr>\n",
       "    <tr>\n",
       "      <th>8</th>\n",
       "      <td>M348796971</td>\n",
       "      <td>21060513C011958388</td>\n",
       "      <td>C01</td>\n",
       "      <td>C010003</td>\n",
       "      <td>1</td>\n",
       "      <td>20210605</td>\n",
       "      <td>20210605</td>\n",
       "      <td>13</td>\n",
       "      <td>5000</td>\n",
       "    </tr>\n",
       "    <tr>\n",
       "      <th>9</th>\n",
       "      <td>M348796971</td>\n",
       "      <td>21060815C015053738</td>\n",
       "      <td>C01</td>\n",
       "      <td>C010003</td>\n",
       "      <td>1</td>\n",
       "      <td>20210608</td>\n",
       "      <td>20210608</td>\n",
       "      <td>15</td>\n",
       "      <td>5000</td>\n",
       "    </tr>\n",
       "    <tr>\n",
       "      <th>10</th>\n",
       "      <td>M348796971</td>\n",
       "      <td>21062013C014651494</td>\n",
       "      <td>C01</td>\n",
       "      <td>C010003</td>\n",
       "      <td>1</td>\n",
       "      <td>20210620</td>\n",
       "      <td>20210620</td>\n",
       "      <td>13</td>\n",
       "      <td>5000</td>\n",
       "    </tr>\n",
       "    <tr>\n",
       "      <th>...</th>\n",
       "      <td>...</td>\n",
       "      <td>...</td>\n",
       "      <td>...</td>\n",
       "      <td>...</td>\n",
       "      <td>...</td>\n",
       "      <td>...</td>\n",
       "      <td>...</td>\n",
       "      <td>...</td>\n",
       "      <td>...</td>\n",
       "    </tr>\n",
       "    <tr>\n",
       "      <th>248299</th>\n",
       "      <td>M058650684</td>\n",
       "      <td>21111614C021426818</td>\n",
       "      <td>C02</td>\n",
       "      <td>C020002</td>\n",
       "      <td>1</td>\n",
       "      <td>20211116</td>\n",
       "      <td>20211116</td>\n",
       "      <td>14</td>\n",
       "      <td>2000</td>\n",
       "    </tr>\n",
       "    <tr>\n",
       "      <th>248300</th>\n",
       "      <td>M058650684</td>\n",
       "      <td>21111619C023223432</td>\n",
       "      <td>C02</td>\n",
       "      <td>C020002</td>\n",
       "      <td>1</td>\n",
       "      <td>20211116</td>\n",
       "      <td>20211116</td>\n",
       "      <td>19</td>\n",
       "      <td>26900</td>\n",
       "    </tr>\n",
       "    <tr>\n",
       "      <th>248301</th>\n",
       "      <td>M014154595</td>\n",
       "      <td>21121209C015324520</td>\n",
       "      <td>C01</td>\n",
       "      <td>C010087</td>\n",
       "      <td>2</td>\n",
       "      <td>20211212</td>\n",
       "      <td>20211212</td>\n",
       "      <td>9</td>\n",
       "      <td>2000</td>\n",
       "    </tr>\n",
       "    <tr>\n",
       "      <th>248302</th>\n",
       "      <td>M510878172</td>\n",
       "      <td>21112719C013369102</td>\n",
       "      <td>C01</td>\n",
       "      <td>C010007</td>\n",
       "      <td>2</td>\n",
       "      <td>20211127</td>\n",
       "      <td>20211127</td>\n",
       "      <td>19</td>\n",
       "      <td>6000</td>\n",
       "    </tr>\n",
       "    <tr>\n",
       "      <th>248303</th>\n",
       "      <td>M761634870</td>\n",
       "      <td>21122419C013829696</td>\n",
       "      <td>C01</td>\n",
       "      <td>C010014</td>\n",
       "      <td>2</td>\n",
       "      <td>20211224</td>\n",
       "      <td>20211225</td>\n",
       "      <td>19</td>\n",
       "      <td>28000</td>\n",
       "    </tr>\n",
       "  </tbody>\n",
       "</table>\n",
       "<p>78581 rows × 9 columns</p>\n",
       "</div>"
      ],
      "text/plain": [
       "              cust              rct_no cop_c     br_c  chnl_dv     de_dt  \\\n",
       "5       M348796971  21052913C012653941   C01  C010003        1  20210529   \n",
       "7       M348796971  21060414C012756148   C01  C010003        1  20210604   \n",
       "8       M348796971  21060513C011958388   C01  C010003        1  20210605   \n",
       "9       M348796971  21060815C015053738   C01  C010003        1  20210608   \n",
       "10      M348796971  21062013C014651494   C01  C010003        1  20210620   \n",
       "...            ...                 ...   ...      ...      ...       ...   \n",
       "248299  M058650684  21111614C021426818   C02  C020002        1  20211116   \n",
       "248300  M058650684  21111619C023223432   C02  C020002        1  20211116   \n",
       "248301  M014154595  21121209C015324520   C01  C010087        2  20211212   \n",
       "248302  M510878172  21112719C013369102   C01  C010007        2  20211127   \n",
       "248303  M761634870  21122419C013829696   C01  C010014        2  20211224   \n",
       "\n",
       "          vst_dt  de_hr  buy_am  \n",
       "5       20210529     13    5000  \n",
       "7       20210604     14    5000  \n",
       "8       20210605     13    5000  \n",
       "9       20210608     15    5000  \n",
       "10      20210620     13    5000  \n",
       "...          ...    ...     ...  \n",
       "248299  20211116     14    2000  \n",
       "248300  20211116     19   26900  \n",
       "248301  20211212      9    2000  \n",
       "248302  20211127     19    6000  \n",
       "248303  20211225     19   28000  \n",
       "\n",
       "[78581 rows x 9 columns]"
      ]
     },
     "execution_count": 5,
     "metadata": {},
     "output_type": "execute_result"
    }
   ],
   "source": [
    "df_aff.loc[df_aff[\"cop_c\"].str.contains(\"C\")]"
   ]
  },
  {
   "cell_type": "markdown",
   "metadata": {},
   "source": [
    "# 1.On/Offline\n",
    "---"
   ]
  },
  {
   "cell_type": "code",
   "execution_count": 6,
   "metadata": {},
   "outputs": [],
   "source": [
    "df_off = df_aff.loc[df_aff[\"chnl_dv\"]==1]\n",
    "df_on = df_aff.loc[df_aff[\"chnl_dv\"]==2]"
   ]
  },
  {
   "cell_type": "markdown",
   "metadata": {},
   "source": [
    "# 1.1.Visualization about channel\n",
    "---"
   ]
  },
  {
   "cell_type": "code",
   "execution_count": 10,
   "metadata": {},
   "outputs": [
    {
     "data": {
      "image/png": "[encoded data removed]",
      "text/plain": [
       "<Figure size 1152x648 with 1 Axes>"
      ]
     },
     "metadata": {},
     "output_type": "display_data"
    }
   ],
   "source": [
    "# pie chart\n",
    "vcs = df_aff[\"chnl_dv\"].value_counts()\n",
    "explode = [0.2]*len(vcs)\n",
    "wedgeprops={'width': 0.7, 'edgecolor': 'w', 'linewidth': 5}\n",
    "plt.pie(vcs, labels=list(map(lambda x: \"Online\" if x==2 else \"Offline\",vcs.index)), \n",
    "        autopct='%.1f%%', startangle=160, counterclock=False, explode=explode, shadow=True, wedgeprops=wedgeprops)\n",
    "plt.title(\"온/오프라인 비율 차트\", size=20)\n",
    "plt.show()"
   ]
  },
  {
   "cell_type": "code",
   "execution_count": 12,
   "metadata": {},
   "outputs": [
    {
     "data": {
      "image/png": "[encoded data removed]",
      "text/plain": [
       "<Figure size 1512x648 with 2 Axes>"
      ]
     },
     "metadata": {},
     "output_type": "display_data"
    }
   ],
   "source": [
    "fig, ax = plt.subplots(nrows=1, ncols=2, figsize=(21,9))\n",
    "sns.histplot(data=df_on[\"cop_c\"], ax=ax[0], color=\"red\")\n",
    "sns.histplot(data=df_off[\"cop_c\"], ax=ax[1], color=\"green\")\n",
    "ax[0].set_title(\"Online COP_C\")\n",
    "ax[1].set_title(\"Offline COP_C\")\n",
    "plt.show()"
   ]
  }
 ],
 "metadata": {
  "kernelspec": {
   "display_name": "Python 3.8.8 ('main')",
   "language": "python",
   "name": "python3"
  },
  "language_info": {
   "codemirror_mode": {
    "name": "ipython",
    "version": 3
   },
   "file_extension": ".py",
   "mimetype": "text/x-python",
   "name": "python",
   "nbconvert_exporter": "python",
   "pygments_lexer": "ipython3",
   "version": "3.8.8"
  },
  "orig_nbformat": 4,
  "vscode": {
   "interpreter": {
    "hash": "5418eef80854e52bdd31b62ac8e168a96471c21ff09caab6ca68827813545a18"
   }
  }
 },
 "nbformat": 4,
 "nbformat_minor": 2
}
