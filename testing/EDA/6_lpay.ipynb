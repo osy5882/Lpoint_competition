{
 "cells": [
  {
   "cell_type": "code",
   "execution_count": 1,
   "metadata": {},
   "outputs": [],
   "source": [
    "import pandas as pd\n",
    "import numpy as np\n",
    "import matplotlib.pyplot as plt\n",
    "import seaborn as sns\n",
    "import os\n",
    "\n",
    "%matplotlib inline\n",
    "plt.rcParams[\"font.family\"] = \"Malgun Gothic\"\n",
    "plt.rcParams[\"font.size\"] = 15\n",
    "plt.rcParams[\"figure.figsize\"] = (16,9)\n",
    "plt.rcParams[\"axes.unicode_minus\"] = False\n",
    "plt.style.use(\"ggplot\")\n",
    "\n",
    "pd.set_option(\"display.max_rows\", 10)\n",
    "pd.set_option(\"display.max_columns\", 10)"
   ]
  },
  {
   "cell_type": "markdown",
   "metadata": {},
   "source": [
    "# 0.Data Load\n",
    "---"
   ]
  },
  {
   "cell_type": "code",
   "execution_count": 3,
   "metadata": {},
   "outputs": [
    {
     "data": {
      "text/html": [
       "<div>\n",
       "<style scoped>\n",
       "    .dataframe tbody tr th:only-of-type {\n",
       "        vertical-align: middle;\n",
       "    }\n",
       "\n",
       "    .dataframe tbody tr th {\n",
       "        vertical-align: top;\n",
       "    }\n",
       "\n",
       "    .dataframe thead th {\n",
       "        text-align: right;\n",
       "    }\n",
       "</style>\n",
       "<table border=\"1\" class=\"dataframe\">\n",
       "  <thead>\n",
       "    <tr style=\"text-align: right;\">\n",
       "      <th></th>\n",
       "      <th>cust</th>\n",
       "      <th>rct_no</th>\n",
       "      <th>cop_c</th>\n",
       "      <th>chnl_dv</th>\n",
       "      <th>de_dt</th>\n",
       "      <th>de_hr</th>\n",
       "      <th>buy_am</th>\n",
       "    </tr>\n",
       "  </thead>\n",
       "  <tbody>\n",
       "    <tr>\n",
       "      <th>0</th>\n",
       "      <td>M629656521</td>\n",
       "      <td>210803210311226</td>\n",
       "      <td>A03</td>\n",
       "      <td>1</td>\n",
       "      <td>20210803</td>\n",
       "      <td>21</td>\n",
       "      <td>10900</td>\n",
       "    </tr>\n",
       "    <tr>\n",
       "      <th>1</th>\n",
       "      <td>M216016456</td>\n",
       "      <td>210803130167542</td>\n",
       "      <td>L01</td>\n",
       "      <td>2</td>\n",
       "      <td>20210803</td>\n",
       "      <td>13</td>\n",
       "      <td>6860</td>\n",
       "    </tr>\n",
       "    <tr>\n",
       "      <th>2</th>\n",
       "      <td>M205142844</td>\n",
       "      <td>210803140275112</td>\n",
       "      <td>A02</td>\n",
       "      <td>1</td>\n",
       "      <td>20210803</td>\n",
       "      <td>14</td>\n",
       "      <td>9000</td>\n",
       "    </tr>\n",
       "    <tr>\n",
       "      <th>3</th>\n",
       "      <td>M737010483</td>\n",
       "      <td>210803040637594</td>\n",
       "      <td>A06</td>\n",
       "      <td>2</td>\n",
       "      <td>20210803</td>\n",
       "      <td>4</td>\n",
       "      <td>36740</td>\n",
       "    </tr>\n",
       "    <tr>\n",
       "      <th>4</th>\n",
       "      <td>M707775545</td>\n",
       "      <td>210803140675502</td>\n",
       "      <td>A06</td>\n",
       "      <td>2</td>\n",
       "      <td>20210803</td>\n",
       "      <td>14</td>\n",
       "      <td>138500</td>\n",
       "    </tr>\n",
       "  </tbody>\n",
       "</table>\n",
       "</div>"
      ],
      "text/plain": [
       "         cust           rct_no cop_c  chnl_dv     de_dt  de_hr  buy_am\n",
       "0  M629656521  210803210311226   A03        1  20210803     21   10900\n",
       "1  M216016456  210803130167542   L01        2  20210803     13    6860\n",
       "2  M205142844  210803140275112   A02        1  20210803     14    9000\n",
       "3  M737010483  210803040637594   A06        2  20210803      4   36740\n",
       "4  M707775545  210803140675502   A06        2  20210803     14  138500"
      ]
     },
     "execution_count": 3,
     "metadata": {},
     "output_type": "execute_result"
    }
   ],
   "source": [
    "df_lpay = pd.read_csv(\"../LPOINT_BIG_COMP/LPOINT_BIG_COMP_06_LPAY.csv\", low_memory=False)\n",
    "df_lpay.head()"
   ]
  },
  {
   "cell_type": "code",
   "execution_count": 4,
   "metadata": {},
   "outputs": [
    {
     "name": "stdout",
     "output_type": "stream",
     "text": [
      "<class 'pandas.core.frame.DataFrame'>\n",
      "RangeIndex: 353184 entries, 0 to 353183\n",
      "Data columns (total 7 columns):\n",
      " #   Column   Non-Null Count   Dtype \n",
      "---  ------   --------------   ----- \n",
      " 0   cust     353184 non-null  object\n",
      " 1   rct_no   353184 non-null  int64 \n",
      " 2   cop_c    353184 non-null  object\n",
      " 3   chnl_dv  353184 non-null  int64 \n",
      " 4   de_dt    353184 non-null  int64 \n",
      " 5   de_hr    353184 non-null  int64 \n",
      " 6   buy_am   353184 non-null  int64 \n",
      "dtypes: int64(5), object(2)\n",
      "memory usage: 18.9+ MB\n"
     ]
    }
   ],
   "source": [
    "df_lpay.info()"
   ]
  },
  {
   "cell_type": "code",
   "execution_count": 5,
   "metadata": {},
   "outputs": [
    {
     "name": "stdout",
     "output_type": "stream",
     "text": [
      "cust: 8906\t['*', 'M629656521', 'M216016456', 'M205142844', 'M737010483', 'M707775545', 'M848083175', 'M253450307', 'M186539937', 'M347475637', 'M161654425']\n",
      "\n",
      "rct_no: 353184\t['*', 210803210311226, 210803130167542, 210803140275112, 210803040637594, 210803140675502, 210803180197432, 210803160182662, 210803130266856, 210803160182823, 210803190302973]\n",
      "\n",
      "cop_c: 14\t['A03' 'L01' 'A02' 'A06' 'A01' 'C01' 'D02' 'A04' 'L00' 'D01' 'A05' 'C02'\n",
      " 'E01' 'B01']\n",
      "\n",
      "chnl_dv: 2\t[1 2]\n",
      "\n",
      "de_dt: 365\t['*', 20210803, 20210804, 20210801, 20210902, 20210926, 20210927, 20210928, 20210930, 20210929, 20210721]\n",
      "\n",
      "de_hr: 24\t['*', 21, 13, 14, 4, 18, 16, 19, 11, 17, 12]\n",
      "\n",
      "buy_am: 37755\t['*', 10900, 6860, 9000, 36740, 138500, 14000, 1000, 9600, 19010, 42450]\n",
      "\n",
      "Total DF Length: 353184\n"
     ]
    }
   ],
   "source": [
    "# Number of Unique Values\n",
    "for col in df_lpay.columns:\n",
    "    unq_arr = df_lpay[col].unique()\n",
    "    print(f\"{col}: {df_lpay[col].nunique()}\\t{['*']+unq_arr[:10].tolist() if df_lpay[col].nunique()>20 else unq_arr}\")\n",
    "    print()\n",
    "print(f\"Total DF Length: {len(df_lpay)}\")"
   ]
  },
  {
   "cell_type": "code",
   "execution_count": 6,
   "metadata": {},
   "outputs": [
    {
     "data": {
      "text/plain": [
       "cust       0\n",
       "rct_no     0\n",
       "cop_c      0\n",
       "chnl_dv    0\n",
       "de_dt      0\n",
       "de_hr      0\n",
       "buy_am     0\n",
       "dtype: int64"
      ]
     },
     "execution_count": 6,
     "metadata": {},
     "output_type": "execute_result"
    }
   ],
   "source": [
    "df_lpay.isna().sum()"
   ]
  }
 ],
 "metadata": {
  "kernelspec": {
   "display_name": "Python 3.8.8 ('main')",
   "language": "python",
   "name": "python3"
  },
  "language_info": {
   "codemirror_mode": {
    "name": "ipython",
    "version": 3
   },
   "file_extension": ".py",
   "mimetype": "text/x-python",
   "name": "python",
   "nbconvert_exporter": "python",
   "pygments_lexer": "ipython3",
   "version": "3.8.8"
  },
  "orig_nbformat": 4,
  "vscode": {
   "interpreter": {
    "hash": "5418eef80854e52bdd31b62ac8e168a96471c21ff09caab6ca68827813545a18"
   }
  }
 },
 "nbformat": 4,
 "nbformat_minor": 2
}
