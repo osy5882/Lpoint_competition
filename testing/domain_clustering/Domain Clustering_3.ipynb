{
 "cells": [
  {
   "cell_type": "code",
   "execution_count": 1,
   "id": "d5224fd4",
   "metadata": {
    "ExecuteTime": {
     "end_time": "2022-08-04T10:56:49.868861Z",
     "start_time": "2022-08-04T10:56:49.858860Z"
    }
   },
   "outputs": [
    {
     "data": {
      "text/html": [
       "<style>.container { width:95% !important; }</style>"
      ],
      "text/plain": [
       "<IPython.core.display.HTML object>"
      ]
     },
     "metadata": {},
     "output_type": "display_data"
    },
    {
     "data": {
      "text/html": [
       "<style>.output_result { max-width:95% !important; }</style>"
      ],
      "text/plain": [
       "<IPython.core.display.HTML object>"
      ]
     },
     "metadata": {},
     "output_type": "display_data"
    },
    {
     "data": {
      "text/html": [
       "<style>.prompt { min-width: 1ex !important; }</style>"
      ],
      "text/plain": [
       "<IPython.core.display.HTML object>"
      ]
     },
     "metadata": {},
     "output_type": "display_data"
    }
   ],
   "source": [
    "from IPython.core.display import display, HTML\n",
    "display(HTML(\"<style>.container { width:95% !important; }</style>\"))\n",
    "display(HTML(\"<style>.output_result { max-width:95% !important; }</style>\"))\n",
    " \n",
    "#여백 줄이기\n",
    "display(HTML(\"<style>.prompt { min-width: 1ex !important; }</style>\"))\n",
    " \n",
    "#In 부분 없애기\n",
    "#display(HTML(\"<style>.prompt bdi { display:none !important; }</style>\"))\n",
    " \n",
    "#아예 다 없애기\n",
    "#display(HTML(\"<style>.prompt { display:none !important; }</style>\"))"
   ]
  },
  {
   "cell_type": "code",
   "execution_count": 2,
   "id": "3ca6d0ff",
   "metadata": {
    "ExecuteTime": {
     "end_time": "2022-08-04T10:56:51.836972Z",
     "start_time": "2022-08-04T10:56:50.227310Z"
    }
   },
   "outputs": [],
   "source": [
    "import pandas as pd\n",
    "import numpy as np\n",
    "import matplotlib.pyplot as plt\n",
    "import seaborn as sns\n",
    "import os\n",
    "\n",
    "%matplotlib inline\n",
    "plt.rcParams[\"font.family\"] = \"Malgun Gothic\"\n",
    "plt.rcParams[\"font.size\"] = 15\n",
    "plt.rcParams[\"figure.figsize\"] = (16,9)\n",
    "plt.rcParams[\"axes.unicode_minus\"] = False\n",
    "plt.style.use(\"ggplot\")\n",
    "\n",
    "pd.set_option(\"display.max_rows\", 10)\n",
    "pd.set_option(\"display.max_columns\", 10)"
   ]
  },
  {
   "cell_type": "markdown",
   "id": "70a38b79",
   "metadata": {},
   "source": [
    "# Data Load\n",
    "---"
   ]
  },
  {
   "cell_type": "code",
   "execution_count": 3,
   "id": "db3ba014",
   "metadata": {
    "ExecuteTime": {
     "end_time": "2022-08-04T10:57:01.373935Z",
     "start_time": "2022-08-04T10:56:58.527648Z"
    }
   },
   "outputs": [
    {
     "name": "stderr",
     "output_type": "stream",
     "text": [
      "c:\\Users\\Leechoongsung\\anaconda3\\lib\\site-packages\\IPython\\core\\interactiveshell.py:3444: DtypeWarning: Columns (4) have mixed types.Specify dtype option on import or set low_memory=False.\n",
      "  exec(code_obj, self.user_global_ns, self.user_ns)\n"
     ]
    }
   ],
   "source": [
    "df_cust = pd.read_csv(\"../../LPOINT_BIG_COMP/LPOINT_BIG_COMP_01_DEMO.csv\")\n",
    "df_pdde = pd.read_csv(\"../../LPOINT_BIG_COMP/LPOINT_BIG_COMP_02_PDDE.csv\")"
   ]
  },
  {
   "cell_type": "markdown",
   "id": "a1dcb063",
   "metadata": {},
   "source": [
    "# 함수화\n",
    "---"
   ]
  },
  {
   "cell_type": "code",
   "execution_count": 4,
   "id": "4034bd66",
   "metadata": {
    "ExecuteTime": {
     "end_time": "2022-08-04T10:57:06.565175Z",
     "start_time": "2022-08-04T10:57:06.541501Z"
    }
   },
   "outputs": [],
   "source": [
    "# 누락 데이터 삭제\n",
    "def check_on_off(df_main, df, key=\"cust\", col_nm=\"chnl_dv\"):\n",
    "    df_new = pd.DataFrame(df.groupby(key)[col_nm].apply(lambda x:list(set(x))))\n",
    "    return df_main.merge(df_new, how=\"left\", on=key).dropna(subset=[\"chnl_dv\"])\n",
    "\n",
    "# on/off 분류\n",
    "def split_on_off(df, col_nm=\"chnl_dv\"):\n",
    "    df[col_nm] = df[col_nm].apply(lambda x: x[0] if len(x)==1 else 0)\n",
    "    df_res1 = df.loc[df[col_nm]==1] ##off\n",
    "    df_res2 = df.loc[df[col_nm]==2] ##on\n",
    "    df_res3 = df.loc[df[col_nm]==0] ##onf\n",
    "    return df_res1, df_res2, df_res3 #off, on, onf\n",
    "\n",
    "# loyal/unloyal 분류\n",
    "def split_loyal(df_main, df_sub, col_nm ='rct_no', key = 'cust'):\n",
    "    df_rct_no = pd.DataFrame(df_sub.groupby([key])[col_nm].apply(lambda x: len(list(set(x))))).reset_index()\n",
    "    df_m2 = df_main.merge(df_rct_no, how=\"left\", on=key)\n",
    "    df_loyal = df_m2.loc[df_m2[col_nm]>3]\n",
    "    df_unloyal = df_m2.loc[df_m2[col_nm]<=3]\n",
    "    return df_loyal, df_unloyal\n",
    "\n",
    "# vip/unvip 분류\n",
    "def split_vip(df_main, df_sub, col_nm='buy_am', key='cust'):\n",
    "    df_buy_am = pd.DataFrame(df_sub.groupby([key],as_index=False)[col_nm].sum())\n",
    "    df_m2 = df_main.merge(df_buy_am, how='left', on=key)\n",
    "    df_vip = df_m2.loc[df_m2[col_nm]>200000]\n",
    "    df_unvip = df_m2.loc[df_m2[col_nm]<=200000]\n",
    "    return df_vip, df_unvip\n",
    "\n",
    "##unloyal Nan 문제 해결\n",
    "def unloyal_buy_am_solve(df_main, df_sub, col_nm='buy_am', key='cust'):\n",
    "    df_buy_am = pd.DataFrame(df_sub.groupby([key],as_index=False)[col_nm].sum())\n",
    "    df_m2 = df_main.merge(df_buy_am, how='left', on=key)\n",
    "    return df_m2\n",
    "\n",
    "\n",
    "def domain_clustering(df_main, df_sub):\n",
    "    df = check_on_off(df_main, df_sub)\n",
    "\n",
    "    df_off, df_on, df_onf = split_on_off(df)\n",
    "\n",
    "    df_01, df_2 = split_loyal(df_on, df_sub)\n",
    "    df_34, df_5 = split_loyal(df_onf, df_sub)\n",
    "    df_67, df_8 = split_loyal(df_off, df_sub)\n",
    "\n",
    "    df_0, df_1 = split_vip(df_01, df_sub)\n",
    "    df_3, df_4 = split_vip(df_34, df_sub)\n",
    "    df_6, df_7 = split_vip(df_67, df_sub)\n",
    "    \n",
    "    df_2 = unloyal_buy_am_solve(df_2, df_sub)\n",
    "    df_5 = unloyal_buy_am_solve(df_5, df_sub)\n",
    "    df_8 = unloyal_buy_am_solve(df_8, df_sub)\n",
    "    \n",
    "    df_init = pd.DataFrame()\n",
    "    for i, df_temp in enumerate([df_0, df_1, df_2, df_3, df_4, df_5, df_6, df_7, df_8]):\n",
    "        df_temp[\"cluster\"] = i\n",
    "        df_init = pd.concat([df_init, df_temp], axis=0, ignore_index=True)\n",
    "        \n",
    "    return df_init\n"
   ]
  },
  {
   "cell_type": "code",
   "execution_count": 5,
   "id": "b2431538",
   "metadata": {
    "ExecuteTime": {
     "end_time": "2022-08-04T10:57:13.832831Z",
     "start_time": "2022-08-04T10:57:07.641748Z"
    }
   },
   "outputs": [],
   "source": [
    "result = domain_clustering(df_cust, df_pdde)"
   ]
  },
  {
   "cell_type": "code",
   "execution_count": 6,
   "id": "48601efb",
   "metadata": {
    "ExecuteTime": {
     "end_time": "2022-08-04T10:57:13.879883Z",
     "start_time": "2022-08-04T10:57:13.864880Z"
    }
   },
   "outputs": [
    {
     "data": {
      "text/html": [
       "<div>\n",
       "<style scoped>\n",
       "    .dataframe tbody tr th:only-of-type {\n",
       "        vertical-align: middle;\n",
       "    }\n",
       "\n",
       "    .dataframe tbody tr th {\n",
       "        vertical-align: top;\n",
       "    }\n",
       "\n",
       "    .dataframe thead th {\n",
       "        text-align: right;\n",
       "    }\n",
       "</style>\n",
       "<table border=\"1\" class=\"dataframe\">\n",
       "  <thead>\n",
       "    <tr style=\"text-align: right;\">\n",
       "      <th></th>\n",
       "      <th>cust</th>\n",
       "      <th>ma_fem_dv</th>\n",
       "      <th>ages</th>\n",
       "      <th>zon_hlv</th>\n",
       "      <th>chnl_dv</th>\n",
       "      <th>rct_no</th>\n",
       "      <th>buy_am</th>\n",
       "      <th>cluster</th>\n",
       "    </tr>\n",
       "  </thead>\n",
       "  <tbody>\n",
       "    <tr>\n",
       "      <th>0</th>\n",
       "      <td>M001248380</td>\n",
       "      <td>여성</td>\n",
       "      <td>30대</td>\n",
       "      <td>Z10</td>\n",
       "      <td>2</td>\n",
       "      <td>38</td>\n",
       "      <td>992100.0</td>\n",
       "      <td>0</td>\n",
       "    </tr>\n",
       "    <tr>\n",
       "      <th>1</th>\n",
       "      <td>M006962764</td>\n",
       "      <td>남성</td>\n",
       "      <td>30대</td>\n",
       "      <td>Z17</td>\n",
       "      <td>2</td>\n",
       "      <td>35</td>\n",
       "      <td>1085730.0</td>\n",
       "      <td>0</td>\n",
       "    </tr>\n",
       "    <tr>\n",
       "      <th>2</th>\n",
       "      <td>M008864908</td>\n",
       "      <td>남성</td>\n",
       "      <td>30대</td>\n",
       "      <td>Z04</td>\n",
       "      <td>2</td>\n",
       "      <td>22</td>\n",
       "      <td>968700.0</td>\n",
       "      <td>0</td>\n",
       "    </tr>\n",
       "    <tr>\n",
       "      <th>3</th>\n",
       "      <td>M014792007</td>\n",
       "      <td>여성</td>\n",
       "      <td>30대</td>\n",
       "      <td>Z13</td>\n",
       "      <td>2</td>\n",
       "      <td>4</td>\n",
       "      <td>735200.0</td>\n",
       "      <td>0</td>\n",
       "    </tr>\n",
       "    <tr>\n",
       "      <th>4</th>\n",
       "      <td>M021341630</td>\n",
       "      <td>여성</td>\n",
       "      <td>40대</td>\n",
       "      <td>Z07</td>\n",
       "      <td>2</td>\n",
       "      <td>23</td>\n",
       "      <td>2718870.0</td>\n",
       "      <td>0</td>\n",
       "    </tr>\n",
       "    <tr>\n",
       "      <th>...</th>\n",
       "      <td>...</td>\n",
       "      <td>...</td>\n",
       "      <td>...</td>\n",
       "      <td>...</td>\n",
       "      <td>...</td>\n",
       "      <td>...</td>\n",
       "      <td>...</td>\n",
       "      <td>...</td>\n",
       "    </tr>\n",
       "    <tr>\n",
       "      <th>26912</th>\n",
       "      <td>M996092967</td>\n",
       "      <td>여성</td>\n",
       "      <td>60대</td>\n",
       "      <td>Z16</td>\n",
       "      <td>1</td>\n",
       "      <td>3</td>\n",
       "      <td>349000.0</td>\n",
       "      <td>8</td>\n",
       "    </tr>\n",
       "    <tr>\n",
       "      <th>26913</th>\n",
       "      <td>M996679486</td>\n",
       "      <td>여성</td>\n",
       "      <td>40대</td>\n",
       "      <td>Z16</td>\n",
       "      <td>1</td>\n",
       "      <td>2</td>\n",
       "      <td>14180.0</td>\n",
       "      <td>8</td>\n",
       "    </tr>\n",
       "    <tr>\n",
       "      <th>26914</th>\n",
       "      <td>M997482914</td>\n",
       "      <td>여성</td>\n",
       "      <td>40대</td>\n",
       "      <td>Z03</td>\n",
       "      <td>1</td>\n",
       "      <td>2</td>\n",
       "      <td>64000.0</td>\n",
       "      <td>8</td>\n",
       "    </tr>\n",
       "    <tr>\n",
       "      <th>26915</th>\n",
       "      <td>M999340261</td>\n",
       "      <td>남성</td>\n",
       "      <td>50대</td>\n",
       "      <td>Z11</td>\n",
       "      <td>1</td>\n",
       "      <td>3</td>\n",
       "      <td>3468000.0</td>\n",
       "      <td>8</td>\n",
       "    </tr>\n",
       "    <tr>\n",
       "      <th>26916</th>\n",
       "      <td>M999492154</td>\n",
       "      <td>여성</td>\n",
       "      <td>20대</td>\n",
       "      <td>Z10</td>\n",
       "      <td>1</td>\n",
       "      <td>1</td>\n",
       "      <td>74800.0</td>\n",
       "      <td>8</td>\n",
       "    </tr>\n",
       "  </tbody>\n",
       "</table>\n",
       "<p>26917 rows × 8 columns</p>\n",
       "</div>"
      ],
      "text/plain": [
       "             cust ma_fem_dv ages zon_hlv  chnl_dv  rct_no     buy_am  cluster\n",
       "0      M001248380        여성  30대     Z10        2      38   992100.0        0\n",
       "1      M006962764        남성  30대     Z17        2      35  1085730.0        0\n",
       "2      M008864908        남성  30대     Z04        2      22   968700.0        0\n",
       "3      M014792007        여성  30대     Z13        2       4   735200.0        0\n",
       "4      M021341630        여성  40대     Z07        2      23  2718870.0        0\n",
       "...           ...       ...  ...     ...      ...     ...        ...      ...\n",
       "26912  M996092967        여성  60대     Z16        1       3   349000.0        8\n",
       "26913  M996679486        여성  40대     Z16        1       2    14180.0        8\n",
       "26914  M997482914        여성  40대     Z03        1       2    64000.0        8\n",
       "26915  M999340261        남성  50대     Z11        1       3  3468000.0        8\n",
       "26916  M999492154        여성  20대     Z10        1       1    74800.0        8\n",
       "\n",
       "[26917 rows x 8 columns]"
      ]
     },
     "execution_count": 6,
     "metadata": {},
     "output_type": "execute_result"
    }
   ],
   "source": [
    "result"
   ]
  },
  {
   "cell_type": "code",
   "execution_count": 14,
   "id": "f701c7bb",
   "metadata": {
    "ExecuteTime": {
     "end_time": "2022-08-02T11:29:13.123628Z",
     "start_time": "2022-08-02T11:29:13.093377Z"
    }
   },
   "outputs": [],
   "source": [
    "result[['cust', 'cluster']].to_csv('domain_cluster_result.csv', index=False)"
   ]
  },
  {
   "cell_type": "code",
   "execution_count": 15,
   "id": "8f782e25",
   "metadata": {
    "ExecuteTime": {
     "end_time": "2022-08-02T11:29:13.734402Z",
     "start_time": "2022-08-02T11:29:13.726179Z"
    }
   },
   "outputs": [
    {
     "data": {
      "text/html": [
       "<div>\n",
       "<style scoped>\n",
       "    .dataframe tbody tr th:only-of-type {\n",
       "        vertical-align: middle;\n",
       "    }\n",
       "\n",
       "    .dataframe tbody tr th {\n",
       "        vertical-align: top;\n",
       "    }\n",
       "\n",
       "    .dataframe thead th {\n",
       "        text-align: right;\n",
       "    }\n",
       "</style>\n",
       "<table border=\"1\" class=\"dataframe\">\n",
       "  <thead>\n",
       "    <tr style=\"text-align: right;\">\n",
       "      <th></th>\n",
       "      <th>cust</th>\n",
       "      <th>cluster</th>\n",
       "    </tr>\n",
       "  </thead>\n",
       "  <tbody>\n",
       "    <tr>\n",
       "      <th>0</th>\n",
       "      <td>M001248380</td>\n",
       "      <td>0</td>\n",
       "    </tr>\n",
       "    <tr>\n",
       "      <th>1</th>\n",
       "      <td>M006962764</td>\n",
       "      <td>0</td>\n",
       "    </tr>\n",
       "    <tr>\n",
       "      <th>2</th>\n",
       "      <td>M008864908</td>\n",
       "      <td>0</td>\n",
       "    </tr>\n",
       "    <tr>\n",
       "      <th>3</th>\n",
       "      <td>M014792007</td>\n",
       "      <td>0</td>\n",
       "    </tr>\n",
       "    <tr>\n",
       "      <th>4</th>\n",
       "      <td>M021341630</td>\n",
       "      <td>0</td>\n",
       "    </tr>\n",
       "    <tr>\n",
       "      <th>...</th>\n",
       "      <td>...</td>\n",
       "      <td>...</td>\n",
       "    </tr>\n",
       "    <tr>\n",
       "      <th>26912</th>\n",
       "      <td>M996092967</td>\n",
       "      <td>8</td>\n",
       "    </tr>\n",
       "    <tr>\n",
       "      <th>26913</th>\n",
       "      <td>M996679486</td>\n",
       "      <td>8</td>\n",
       "    </tr>\n",
       "    <tr>\n",
       "      <th>26914</th>\n",
       "      <td>M997482914</td>\n",
       "      <td>8</td>\n",
       "    </tr>\n",
       "    <tr>\n",
       "      <th>26915</th>\n",
       "      <td>M999340261</td>\n",
       "      <td>8</td>\n",
       "    </tr>\n",
       "    <tr>\n",
       "      <th>26916</th>\n",
       "      <td>M999492154</td>\n",
       "      <td>8</td>\n",
       "    </tr>\n",
       "  </tbody>\n",
       "</table>\n",
       "<p>26917 rows × 2 columns</p>\n",
       "</div>"
      ],
      "text/plain": [
       "             cust  cluster\n",
       "0      M001248380        0\n",
       "1      M006962764        0\n",
       "2      M008864908        0\n",
       "3      M014792007        0\n",
       "4      M021341630        0\n",
       "...           ...      ...\n",
       "26912  M996092967        8\n",
       "26913  M996679486        8\n",
       "26914  M997482914        8\n",
       "26915  M999340261        8\n",
       "26916  M999492154        8\n",
       "\n",
       "[26917 rows x 2 columns]"
      ]
     },
     "execution_count": 15,
     "metadata": {},
     "output_type": "execute_result"
    }
   ],
   "source": [
    "result[['cust', 'cluster']]"
   ]
  },
  {
   "cell_type": "code",
   "execution_count": 19,
   "id": "7726ef87",
   "metadata": {
    "ExecuteTime": {
     "end_time": "2022-08-02T11:29:34.318782Z",
     "start_time": "2022-08-02T11:29:34.306780Z"
    }
   },
   "outputs": [
    {
     "data": {
      "text/html": [
       "<div>\n",
       "<style scoped>\n",
       "    .dataframe tbody tr th:only-of-type {\n",
       "        vertical-align: middle;\n",
       "    }\n",
       "\n",
       "    .dataframe tbody tr th {\n",
       "        vertical-align: top;\n",
       "    }\n",
       "\n",
       "    .dataframe thead th {\n",
       "        text-align: right;\n",
       "    }\n",
       "</style>\n",
       "<table border=\"1\" class=\"dataframe\">\n",
       "  <thead>\n",
       "    <tr style=\"text-align: right;\">\n",
       "      <th></th>\n",
       "      <th>cust</th>\n",
       "      <th>ma_fem_dv</th>\n",
       "      <th>ages</th>\n",
       "      <th>zon_hlv</th>\n",
       "      <th>chnl_dv</th>\n",
       "      <th>rct_no</th>\n",
       "      <th>buy_am</th>\n",
       "      <th>cluster</th>\n",
       "    </tr>\n",
       "  </thead>\n",
       "  <tbody>\n",
       "    <tr>\n",
       "      <th>890</th>\n",
       "      <td>M000136117</td>\n",
       "      <td>여성</td>\n",
       "      <td>30대</td>\n",
       "      <td>Z11</td>\n",
       "      <td>0</td>\n",
       "      <td>70</td>\n",
       "      <td>27373630.0</td>\n",
       "      <td>3</td>\n",
       "    </tr>\n",
       "    <tr>\n",
       "      <th>891</th>\n",
       "      <td>M000494848</td>\n",
       "      <td>여성</td>\n",
       "      <td>30대</td>\n",
       "      <td>Z10</td>\n",
       "      <td>0</td>\n",
       "      <td>160</td>\n",
       "      <td>25624610.0</td>\n",
       "      <td>3</td>\n",
       "    </tr>\n",
       "    <tr>\n",
       "      <th>892</th>\n",
       "      <td>M000621637</td>\n",
       "      <td>여성</td>\n",
       "      <td>40대</td>\n",
       "      <td>Z11</td>\n",
       "      <td>0</td>\n",
       "      <td>137</td>\n",
       "      <td>16702330.0</td>\n",
       "      <td>3</td>\n",
       "    </tr>\n",
       "    <tr>\n",
       "      <th>893</th>\n",
       "      <td>M000986912</td>\n",
       "      <td>여성</td>\n",
       "      <td>30대</td>\n",
       "      <td>Z10</td>\n",
       "      <td>0</td>\n",
       "      <td>48</td>\n",
       "      <td>777430.0</td>\n",
       "      <td>3</td>\n",
       "    </tr>\n",
       "    <tr>\n",
       "      <th>894</th>\n",
       "      <td>M001332751</td>\n",
       "      <td>여성</td>\n",
       "      <td>30대</td>\n",
       "      <td>Z06</td>\n",
       "      <td>0</td>\n",
       "      <td>33</td>\n",
       "      <td>2814069.0</td>\n",
       "      <td>3</td>\n",
       "    </tr>\n",
       "    <tr>\n",
       "      <th>...</th>\n",
       "      <td>...</td>\n",
       "      <td>...</td>\n",
       "      <td>...</td>\n",
       "      <td>...</td>\n",
       "      <td>...</td>\n",
       "      <td>...</td>\n",
       "      <td>...</td>\n",
       "      <td>...</td>\n",
       "    </tr>\n",
       "    <tr>\n",
       "      <th>9461</th>\n",
       "      <td>M975506549</td>\n",
       "      <td>남성</td>\n",
       "      <td>30대</td>\n",
       "      <td>Z17</td>\n",
       "      <td>0</td>\n",
       "      <td>2</td>\n",
       "      <td>131900.0</td>\n",
       "      <td>5</td>\n",
       "    </tr>\n",
       "    <tr>\n",
       "      <th>9462</th>\n",
       "      <td>M983748971</td>\n",
       "      <td>여성</td>\n",
       "      <td>30대</td>\n",
       "      <td>Z10</td>\n",
       "      <td>0</td>\n",
       "      <td>3</td>\n",
       "      <td>21900.0</td>\n",
       "      <td>5</td>\n",
       "    </tr>\n",
       "    <tr>\n",
       "      <th>9463</th>\n",
       "      <td>M986339107</td>\n",
       "      <td>여성</td>\n",
       "      <td>30대</td>\n",
       "      <td>Z10</td>\n",
       "      <td>0</td>\n",
       "      <td>2</td>\n",
       "      <td>1066000.0</td>\n",
       "      <td>5</td>\n",
       "    </tr>\n",
       "    <tr>\n",
       "      <th>9464</th>\n",
       "      <td>M987624864</td>\n",
       "      <td>남성</td>\n",
       "      <td>30대</td>\n",
       "      <td>Z14</td>\n",
       "      <td>0</td>\n",
       "      <td>2</td>\n",
       "      <td>62080.0</td>\n",
       "      <td>5</td>\n",
       "    </tr>\n",
       "    <tr>\n",
       "      <th>9465</th>\n",
       "      <td>M988682724</td>\n",
       "      <td>남성</td>\n",
       "      <td>40대</td>\n",
       "      <td>Z10</td>\n",
       "      <td>0</td>\n",
       "      <td>3</td>\n",
       "      <td>117340.0</td>\n",
       "      <td>5</td>\n",
       "    </tr>\n",
       "  </tbody>\n",
       "</table>\n",
       "<p>8576 rows × 8 columns</p>\n",
       "</div>"
      ],
      "text/plain": [
       "            cust ma_fem_dv ages zon_hlv  chnl_dv  rct_no      buy_am  cluster\n",
       "890   M000136117        여성  30대     Z11        0      70  27373630.0        3\n",
       "891   M000494848        여성  30대     Z10        0     160  25624610.0        3\n",
       "892   M000621637        여성  40대     Z11        0     137  16702330.0        3\n",
       "893   M000986912        여성  30대     Z10        0      48    777430.0        3\n",
       "894   M001332751        여성  30대     Z06        0      33   2814069.0        3\n",
       "...          ...       ...  ...     ...      ...     ...         ...      ...\n",
       "9461  M975506549        남성  30대     Z17        0       2    131900.0        5\n",
       "9462  M983748971        여성  30대     Z10        0       3     21900.0        5\n",
       "9463  M986339107        여성  30대     Z10        0       2   1066000.0        5\n",
       "9464  M987624864        남성  30대     Z14        0       2     62080.0        5\n",
       "9465  M988682724        남성  40대     Z10        0       3    117340.0        5\n",
       "\n",
       "[8576 rows x 8 columns]"
      ]
     },
     "execution_count": 19,
     "metadata": {},
     "output_type": "execute_result"
    }
   ],
   "source": [
    "result[result[\"chnl_dv\"]==0] # 온오프"
   ]
  },
  {
   "cell_type": "markdown",
   "id": "e6e5a334",
   "metadata": {},
   "source": [
    "# Visualization\n",
    "---"
   ]
  },
  {
   "cell_type": "markdown",
   "id": "2ded6224",
   "metadata": {},
   "source": [
    "## on-line / off-line / on&off-line"
   ]
  },
  {
   "cell_type": "code",
   "execution_count": 20,
   "id": "9c95595e",
   "metadata": {
    "ExecuteTime": {
     "end_time": "2022-08-02T11:29:34.900493Z",
     "start_time": "2022-08-02T11:29:34.892499Z"
    }
   },
   "outputs": [],
   "source": [
    "result_onoff = result[result[\"chnl_dv\"]==0] #온오프\n",
    "result_off = result[result[\"chnl_dv\"]==1] #오프\n",
    "result_on = result[result[\"chnl_dv\"]==2] #온"
   ]
  },
  {
   "cell_type": "markdown",
   "id": "c3bb4563",
   "metadata": {},
   "source": [
    "온라인, 오프라인, 온라인_오프라인을 구분하는 이유"
   ]
  },
  {
   "cell_type": "code",
   "execution_count": 21,
   "id": "1280db29",
   "metadata": {
    "ExecuteTime": {
     "end_time": "2022-08-02T11:29:36.578914Z",
     "start_time": "2022-08-02T11:29:35.623064Z"
    }
   },
   "outputs": [
    {
     "data": {
      "image/png": "[encoded data removed]",
      "text/plain": [
       "<Figure size 1152x648 with 1 Axes>"
      ]
     },
     "metadata": {},
     "output_type": "display_data"
    }
   ],
   "source": [
    "sns.histplot(result_onoff['buy_am'], log_scale=True, kde=True, color='red', alpha=0.5, stat='probability', label=\"on/off line\")\n",
    "sns.histplot(result_on['buy_am'], log_scale=True, kde=True, color='green', alpha=0.5, stat='probability', label=\"online\")\n",
    "sns.histplot(result_off['buy_am'], log_scale=True, kde=True, color='blue', alpha=0.5, stat='probability', label=\"offline\")\n",
    "plt.legend()\n",
    "plt.show()"
   ]
  },
  {
   "cell_type": "code",
   "execution_count": 22,
   "id": "1ee1163c",
   "metadata": {
    "ExecuteTime": {
     "end_time": "2022-08-02T11:29:36.814556Z",
     "start_time": "2022-08-02T11:29:36.737454Z"
    }
   },
   "outputs": [
    {
     "data": {
      "text/plain": [
       "KstestResult(statistic=0.6291340872882777, pvalue=4.993783164763954e-13)"
      ]
     },
     "execution_count": 22,
     "metadata": {},
     "output_type": "execute_result"
    }
   ],
   "source": [
    "from scipy.stats import kstest\n",
    "import numpy as np\n",
    "\n",
    "test_stat = kstest(result_onoff['buy_am'], result_on['buy_am'])\n",
    "test_stat"
   ]
  },
  {
   "cell_type": "code",
   "execution_count": 23,
   "id": "b3b9e92e",
   "metadata": {
    "ExecuteTime": {
     "end_time": "2022-08-02T11:29:36.986607Z",
     "start_time": "2022-08-02T11:29:36.972600Z"
    }
   },
   "outputs": [
    {
     "data": {
      "text/plain": [
       "KstestResult(statistic=0.423255355766612, pvalue=3.9097989861462917e-138)"
      ]
     },
     "execution_count": 23,
     "metadata": {},
     "output_type": "execute_result"
    }
   ],
   "source": [
    "test_stat = kstest(result_off['buy_am'], result_on['buy_am'])\n",
    "test_stat"
   ]
  },
  {
   "cell_type": "code",
   "execution_count": 24,
   "id": "1ffdf220",
   "metadata": {
    "ExecuteTime": {
     "end_time": "2022-08-02T11:29:37.160726Z",
     "start_time": "2022-08-02T11:29:37.146662Z"
    }
   },
   "outputs": [
    {
     "data": {
      "text/plain": [
       "KstestResult(statistic=0.24175128392548173, pvalue=2.734697052427284e-296)"
      ]
     },
     "execution_count": 24,
     "metadata": {},
     "output_type": "execute_result"
    }
   ],
   "source": [
    "test_stat = kstest(result_onoff['buy_am'], result_off['buy_am'])\n",
    "test_stat"
   ]
  },
  {
   "cell_type": "markdown",
   "id": "d9f7dd2e",
   "metadata": {},
   "source": [
    "총 금액 사용량 ks test p-value가 0에 가까운 값이다. 즉 온라인, 오프라인, 온+오프라인인 경우 전부 다른 분포를 가진다고 할 수 있다. 그래프에서 확인 가능하다."
   ]
  },
  {
   "cell_type": "markdown",
   "id": "ed46625a",
   "metadata": {},
   "source": [
    "## loyal / unloyal"
   ]
  },
  {
   "cell_type": "markdown",
   "id": "94575010",
   "metadata": {},
   "source": [
    "충성 고객, 비충성 고객 3을 기준으로 나누는 이유"
   ]
  },
  {
   "cell_type": "code",
   "execution_count": 25,
   "id": "1723e42a",
   "metadata": {
    "ExecuteTime": {
     "end_time": "2022-08-02T11:29:37.831720Z",
     "start_time": "2022-08-02T11:29:37.825621Z"
    }
   },
   "outputs": [],
   "source": [
    "result_royal = result[result[\"rct_no\"]>3] #충성\n",
    "result_unroyal = result[result[\"rct_no\"]<=3] #비충성"
   ]
  },
  {
   "cell_type": "code",
   "execution_count": 31,
   "id": "44e4748e",
   "metadata": {
    "ExecuteTime": {
     "end_time": "2022-08-02T11:35:48.051214Z",
     "start_time": "2022-08-02T11:35:47.390832Z"
    }
   },
   "outputs": [
    {
     "data": {
      "image/png": "[encoded data removed]",
      "text/plain": [
       "<Figure size 1152x648 with 1 Axes>"
      ]
     },
     "metadata": {},
     "output_type": "display_data"
    }
   ],
   "source": [
    "sns.histplot(result_royal['buy_am'], log_scale=True, kde=True, color='red', alpha=0.5, stat='probability', label=\"royal\")\n",
    "sns.histplot(result_unroyal['buy_am'], log_scale=True, kde=True, color='green', alpha=0.5, stat='probability', label=\"unroyal\")\n",
    "plt.legend()\n",
    "plt.show()"
   ]
  },
  {
   "cell_type": "code",
   "execution_count": 27,
   "id": "091a48ea",
   "metadata": {
    "ExecuteTime": {
     "end_time": "2022-08-02T11:29:38.896621Z",
     "start_time": "2022-08-02T11:29:38.881526Z"
    }
   },
   "outputs": [
    {
     "data": {
      "text/plain": [
       "KstestResult(statistic=0.7651845793384544, pvalue=0.0)"
      ]
     },
     "execution_count": 27,
     "metadata": {},
     "output_type": "execute_result"
    }
   ],
   "source": [
    "test_stat = kstest(result_royal['buy_am'], result_unroyal['buy_am'])\n",
    "test_stat"
   ]
  },
  {
   "cell_type": "markdown",
   "id": "13096255",
   "metadata": {},
   "source": [
    "충성 고객을 주로 구매횟수 3회를 기준으로 나눈다. (Domain지식), 총 금액 사용량 ks test 결과 다른 분포이다."
   ]
  },
  {
   "cell_type": "markdown",
   "id": "6c986ce6",
   "metadata": {},
   "source": [
    "## vip / unvip"
   ]
  },
  {
   "cell_type": "markdown",
   "id": "a6746da8",
   "metadata": {},
   "source": [
    "vip를 200,000을 기준으로 나누는 이유 (충성, 비충성 고객 분류보다 조금 더 구체화 하기 위해서)"
   ]
  },
  {
   "cell_type": "code",
   "execution_count": 28,
   "id": "cdadadf6",
   "metadata": {
    "ExecuteTime": {
     "end_time": "2022-08-02T11:29:39.601104Z",
     "start_time": "2022-08-02T11:29:39.589088Z"
    }
   },
   "outputs": [],
   "source": [
    "result_vip = result[result[\"buy_am\"]>200000] #vip\n",
    "result_unvip = result[result[\"buy_am\"]<=200000] #unvip"
   ]
  },
  {
   "cell_type": "code",
   "execution_count": 32,
   "id": "28e5a1c9",
   "metadata": {
    "ExecuteTime": {
     "end_time": "2022-08-02T11:36:11.721514Z",
     "start_time": "2022-08-02T11:36:11.173793Z"
    }
   },
   "outputs": [
    {
     "data": {
      "image/png": "[encoded data removed]",
      "text/plain": [
       "<Figure size 1152x648 with 1 Axes>"
      ]
     },
     "metadata": {},
     "output_type": "display_data"
    }
   ],
   "source": [
    "sns.histplot(result_vip['rct_no'], log_scale=True, kde=True, color='red', alpha=0.5, stat='probability', label=\"vip\")\n",
    "sns.histplot(result_unvip['rct_no'], log_scale=True, kde=True, color='green', alpha=0.5, stat='probability', label=\"unvip\")\n",
    "plt.legend()\n",
    "plt.show()"
   ]
  },
  {
   "cell_type": "code",
   "execution_count": 30,
   "id": "27c7a29f",
   "metadata": {
    "ExecuteTime": {
     "end_time": "2022-08-02T11:29:40.657510Z",
     "start_time": "2022-08-02T11:29:40.642534Z"
    }
   },
   "outputs": [
    {
     "data": {
      "text/plain": [
       "KstestResult(statistic=0.777633306491582, pvalue=0.0)"
      ]
     },
     "execution_count": 30,
     "metadata": {},
     "output_type": "execute_result"
    }
   ],
   "source": [
    "test_stat = kstest(result_vip['rct_no'], result_unvip['rct_no'])\n",
    "test_stat"
   ]
  },
  {
   "cell_type": "markdown",
   "id": "220cd664",
   "metadata": {},
   "source": [
    "**클러스터 해석**\n",
    "\n",
    "0. 온라인만 사용하는 충성&vip 고객 \n",
    "1. 온라인만 사용하는 충성&unvip 고객\n",
    "2. 온라인만 사용하는 비충성 고객\n",
    "\n",
    "\n",
    "3. 온라인, 오프라인 모두 사용하는 충성&vip 고객 \n",
    "4. 온라인, 오프라인 모두 사용하는 충성&unvip 고객\n",
    "5. 온라인, 오프라인 모두 사용하는 비충성 고객\n",
    "\n",
    "\n",
    "6. 오프라인만 사용하는 충성&vip 고객 \n",
    "7. 오프라인만 사용하는 충성&unvip 고객\n",
    "8. 오프라인만 사용하는 비충성 고객"
   ]
  },
  {
   "cell_type": "code",
   "execution_count": 36,
   "id": "c559ee53",
   "metadata": {
    "ExecuteTime": {
     "end_time": "2022-08-02T11:44:39.652288Z",
     "start_time": "2022-08-02T11:44:39.645285Z"
    }
   },
   "outputs": [
    {
     "data": {
      "text/plain": [
       "6    13847\n",
       "3     8239\n",
       "8     2434\n",
       "7     1170\n",
       "2      574\n",
       "0      287\n",
       "5      185\n",
       "4      152\n",
       "1       29\n",
       "Name: cluster, dtype: int64"
      ]
     },
     "execution_count": 36,
     "metadata": {},
     "output_type": "execute_result"
    }
   ],
   "source": [
    "result['cluster'].value_counts()"
   ]
  },
  {
   "cell_type": "code",
   "execution_count": null,
   "id": "034676a6",
   "metadata": {},
   "outputs": [],
   "source": []
  }
 ],
 "metadata": {
  "hide_input": false,
  "kernelspec": {
   "display_name": "Python 3.9.7 ('base')",
   "language": "python",
   "name": "python3"
  },
  "language_info": {
   "codemirror_mode": {
    "name": "ipython",
    "version": 3
   },
   "file_extension": ".py",
   "mimetype": "text/x-python",
   "name": "python",
   "nbconvert_exporter": "python",
   "pygments_lexer": "ipython3",
   "version": "3.9.7"
  },
  "toc": {
   "base_numbering": 1,
   "nav_menu": {},
   "number_sections": true,
   "sideBar": true,
   "skip_h1_title": false,
   "title_cell": "Table of Contents",
   "title_sidebar": "Contents",
   "toc_cell": false,
   "toc_position": {
    "height": "calc(100% - 180px)",
    "left": "10px",
    "top": "150px",
    "width": "191px"
   },
   "toc_section_display": true,
   "toc_window_display": true
  },
  "varInspector": {
   "cols": {
    "lenName": 16,
    "lenType": 16,
    "lenVar": 40
   },
   "kernels_config": {
    "python": {
     "delete_cmd_postfix": "",
     "delete_cmd_prefix": "del ",
     "library": "var_list.py",
     "varRefreshCmd": "print(var_dic_list())"
    },
    "r": {
     "delete_cmd_postfix": ") ",
     "delete_cmd_prefix": "rm(",
     "library": "var_list.r",
     "varRefreshCmd": "cat(var_dic_list()) "
    }
   },
   "types_to_exclude": [
    "module",
    "function",
    "builtin_function_or_method",
    "instance",
    "_Feature"
   ],
   "window_display": false
  },
  "vscode": {
   "interpreter": {
    "hash": "42a636b4ae40231869e16fcf30ae97d54d85a7f895f1f4f5db0d943359100379"
   }
  }
 },
 "nbformat": 4,
 "nbformat_minor": 5
}
